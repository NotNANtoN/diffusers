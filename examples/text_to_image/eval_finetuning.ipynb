{
 "cells": [
  {
   "cell_type": "code",
   "execution_count": null,
   "id": "3fc0af67-68e6-4256-8de3-68466119145c",
   "metadata": {},
   "outputs": [],
   "source": [
    "import os \n",
    "\n",
    "from PIL import Image"
   ]
  },
  {
   "cell_type": "code",
   "execution_count": null,
   "id": "60c218ec-d6b4-440a-a026-b7b225e7683a",
   "metadata": {},
   "outputs": [],
   "source": [
    "finetune_path = \"sdv1-5-var-aspect-3\"\n",
    "\n",
    "gen_folder = os.path.join(finetune_path, \"generations\")\n",
    "video_folder = os.path.join(finetune_path, \"videos\")\n",
    "os.makedirs(video_folder, exist_ok=True)\n",
    "\n",
    "step_names = sorted([f for f in os.listdir(gen_folder) if not f.endswith(\".ipynb_checkpoints\")],  key=lambda x: int(x))"
   ]
  },
  {
   "cell_type": "code",
   "execution_count": null,
   "id": "e6177a14-9a24-4114-b458-2790daf716af",
   "metadata": {},
   "outputs": [],
   "source": [
    "import imageio\n",
    "import numpy as np\n",
    "from PIL import ImageDraw\n",
    "import torchvision\n",
    "import torch\n",
    "\n",
    "prompt_num = 6\n",
    "resolutions = [\"256x256\", \"512x512\", \"1024x512\", \"512x1024\"]\n",
    "\n",
    "\n",
    "to_tensor = torchvision.transforms.ToTensor()\n",
    "to_pil = torchvision.transforms.ToPILImage()\n",
    "for res in resolutions:\n",
    "    skip_res = False\n",
    "    \n",
    "    all_prompts = []\n",
    "    for prompt_id in range(prompt_num):\n",
    "        img_name = f\"{prompt_id}_{res}.jpg\"\n",
    "        img_paths = [os.path.join(gen_folder, f, img_name) for f in step_names]\n",
    "        all_prompts.append(img_paths)    \n",
    "\n",
    "    # create video\n",
    "    vid_name = f\"{res}.mp4\"\n",
    "    vid_path = os.path.join(video_folder, vid_name)\n",
    "    \n",
    "    num_prompts = len(all_prompts[0])\n",
    "    # write video\n",
    "    writer = imageio.get_writer(vid_path, fps=4)\n",
    "    for i in range(num_prompts):\n",
    "        img_list = []\n",
    "        for img_paths in all_prompts:\n",
    "            #try:\n",
    "                img_path = img_paths[i]\n",
    "                tens = to_tensor(Image.open(img_path))\n",
    "                img_list.append(tens)\n",
    "            #except FileNotFoundError:\n",
    "            #    print(\"Could not load \", img_path)\n",
    "            #    skip_res = True\n",
    "                \n",
    "        if skip_res == True:\n",
    "            print(\"Skipping:\", res)\n",
    "            break\n",
    "        grid = torchvision.utils.make_grid(img_list, nrow = 3, padding = 2,\n",
    "                                           normalize=False, scale_each = False, pad_value = 0.0)\n",
    "        ndarr = grid.mul(255).add_(0.5).clamp_(0, 255).permute(1, 2, 0).to(\"cpu\", torch.uint8).numpy()\n",
    "        grid_img = Image.fromarray(ndarr)\n",
    "        edit_img = ImageDraw.Draw(grid_img)\n",
    "        step = step_names[i]\n",
    "        text = f\"Step {step}\"\n",
    "        edit_img.text((15, 15), text, (237, 230, 211))\n",
    "        img_arr = np.array(grid_img)\n",
    "\n",
    "        writer.append_data(img_arr)\n",
    "    writer.close()\n",
    "print(\"Done\")"
   ]
  },
  {
   "cell_type": "code",
   "execution_count": null,
   "id": "4c6f3599-5287-4fb2-a1a2-8e04841eddeb",
   "metadata": {},
   "outputs": [],
   "source": []
  },
  {
   "cell_type": "code",
   "execution_count": null,
   "id": "3768dc18-4020-49a1-b0d8-7ce4dc19c537",
   "metadata": {},
   "outputs": [],
   "source": []
  }
 ],
 "metadata": {
  "kernelspec": {
   "display_name": "Python 3",
   "language": "python",
   "name": "python3"
  },
  "language_info": {
   "codemirror_mode": {
    "name": "ipython",
    "version": 3
   },
   "file_extension": ".py",
   "mimetype": "text/x-python",
   "name": "python",
   "nbconvert_exporter": "python",
   "pygments_lexer": "ipython3",
   "version": "3.8.10"
  }
 },
 "nbformat": 4,
 "nbformat_minor": 5
}
